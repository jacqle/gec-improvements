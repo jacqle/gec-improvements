{
 "cells": [
  {
   "cell_type": "code",
   "execution_count": 1,
   "id": "4048a82f",
   "metadata": {},
   "outputs": [],
   "source": [
    "import requests"
   ]
  },
  {
   "cell_type": "code",
   "execution_count": 11,
   "id": "2c86d2eb",
   "metadata": {},
   "outputs": [],
   "source": [
    "def get_output(input_text:str):\n",
    "    url = \"https://api.writify.io/gec\"\n",
    "    parameters = {\"text\":input_text}\n",
    "    response = requests.get(url, params=parameters)\n",
    "    return response.json()"
   ]
  },
  {
   "cell_type": "code",
   "execution_count": 12,
   "id": "94728a9c",
   "metadata": {},
   "outputs": [
    {
     "data": {
      "text/plain": [
       "{'gec': {'autocorrect': 'Hello, my name is johN.',\n",
       "  'orig': 'Hello, my name are johN.',\n",
       "  'sentences': [{'orig': 'Hello, my name are johN.',\n",
       "    'suggestions': [{'errors': [{'c_end': '4',\n",
       "        'c_start': '3',\n",
       "        'c_str': 'is',\n",
       "        'o_end': '4',\n",
       "        'o_start': '3',\n",
       "        'o_str': 'are',\n",
       "        'o_toks': 'are',\n",
       "        'type': 'R:VERB:SVA'}],\n",
       "      'prob': -4.089671770731608,\n",
       "      'text': 'Hello, my name is johN.'},\n",
       "     {}]}]}}"
      ]
     },
     "execution_count": 12,
     "metadata": {},
     "output_type": "execute_result"
    }
   ],
   "source": [
    "get_output(\"Hello, my name are johN.\")"
   ]
  },
  {
   "cell_type": "code",
   "execution_count": null,
   "id": "2aa13b34",
   "metadata": {},
   "outputs": [],
   "source": []
  }
 ],
 "metadata": {
  "kernelspec": {
   "display_name": "Python 3",
   "language": "python",
   "name": "python3"
  },
  "language_info": {
   "codemirror_mode": {
    "name": "ipython",
    "version": 3
   },
   "file_extension": ".py",
   "mimetype": "text/x-python",
   "name": "python",
   "nbconvert_exporter": "python",
   "pygments_lexer": "ipython3",
   "version": "3.7.0"
  }
 },
 "nbformat": 4,
 "nbformat_minor": 5
}
