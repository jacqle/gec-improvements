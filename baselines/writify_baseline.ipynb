{
 "cells": [
  {
   "cell_type": "code",
   "execution_count": 1,
   "id": "4048a82f",
   "metadata": {},
   "outputs": [],
   "source": [
    "import requests"
   ]
  },
  {
   "cell_type": "code",
   "execution_count": 2,
   "id": "2c86d2eb",
   "metadata": {},
   "outputs": [],
   "source": [
    "def get_output(input_text:str):\n",
    "    url = \"https://api.writify.io/gec\"\n",
    "    parameters = {\"text\":input_text}\n",
    "    response = requests.get(url, params=parameters)\n",
    "    return response.json()"
   ]
  },
  {
   "cell_type": "code",
   "execution_count": 12,
   "id": "94728a9c",
   "metadata": {},
   "outputs": [
    {
     "data": {
      "text/plain": [
       "{'gec': {'autocorrect': 'Hello, my name is johN.',\n",
       "  'orig': 'Hello, my name are johN.',\n",
       "  'sentences': [{'orig': 'Hello, my name are johN.',\n",
       "    'suggestions': [{'errors': [{'c_end': '4',\n",
       "        'c_start': '3',\n",
       "        'c_str': 'is',\n",
       "        'o_end': '4',\n",
       "        'o_start': '3',\n",
       "        'o_str': 'are',\n",
       "        'o_toks': 'are',\n",
       "        'type': 'R:VERB:SVA'}],\n",
       "      'prob': -4.089671770731608,\n",
       "      'text': 'Hello, my name is johN.'},\n",
       "     {}]}]}}"
      ]
     },
     "execution_count": 12,
     "metadata": {},
     "output_type": "execute_result"
    }
   ],
   "source": [
    "get_output(\"Hello, my name are johN.\")"
   ]
  },
  {
   "cell_type": "code",
   "execution_count": 3,
   "id": "2aa13b34",
   "metadata": {},
   "outputs": [
    {
     "data": {
      "text/plain": [
       "{'gec': {'autocorrect': 'I liked the apple very much. Even though I am prefer the pears',\n",
       "  'orig': 'I like the apples very much. Even though i am prefer pears',\n",
       "  'sentences': [{'orig': 'I like the apples very much.',\n",
       "    'suggestions': [{'errors': [{'c_end': '4',\n",
       "        'c_start': '3',\n",
       "        'c_str': 'apple',\n",
       "        'o_end': '4',\n",
       "        'o_start': '3',\n",
       "        'o_str': 'apples',\n",
       "        'o_toks': 'apples',\n",
       "        'type': 'R:NOUN:NUM'}],\n",
       "      'prob': -3.677351815359933,\n",
       "      'text': 'I like the apple very much.'},\n",
       "     {'errors': [{'c_end': '2',\n",
       "        'c_start': '1',\n",
       "        'c_str': 'liked',\n",
       "        'o_end': '2',\n",
       "        'o_start': '1',\n",
       "        'o_str': 'like',\n",
       "        'o_toks': 'like',\n",
       "        'type': 'R:VERB:TENSE'},\n",
       "       {'c_end': '6',\n",
       "        'c_start': '5',\n",
       "        'c_str': 'much.',\n",
       "        'o_end': '7',\n",
       "        'o_start': '5',\n",
       "        'o_str': 'much .',\n",
       "        'o_toks': 'much .',\n",
       "        'type': 'R:ORTH'}],\n",
       "      'prob': -3.4929493495396207,\n",
       "      'text': 'I liked the apple very much.'},\n",
       "     {}]},\n",
       "   {'orig': 'Even though i am prefer pears',\n",
       "    'suggestions': [{'errors': [{'c_end': '3',\n",
       "        'c_start': '2',\n",
       "        'c_str': 'I',\n",
       "        'o_end': '3',\n",
       "        'o_start': '2',\n",
       "        'o_str': 'i',\n",
       "        'o_toks': 'i',\n",
       "        'type': 'R:ORTH'},\n",
       "       {'c_end': '6',\n",
       "        'c_start': '5',\n",
       "        'c_str': 'the',\n",
       "        'o_end': '5',\n",
       "        'o_start': '5',\n",
       "        'o_str': '',\n",
       "        'o_toks': '',\n",
       "        'type': 'M:DET'}],\n",
       "      'prob': -3.3986312321254184,\n",
       "      'text': 'Even though I am prefer the pears'},\n",
       "     {}]}]}}"
      ]
     },
     "execution_count": 3,
     "metadata": {},
     "output_type": "execute_result"
    }
   ],
   "source": [
    "get_output(\"I like the apples very much. Even though i am prefer pears\")"
   ]
  },
  {
   "cell_type": "code",
   "execution_count": null,
   "id": "d8183913",
   "metadata": {},
   "outputs": [],
   "source": []
  }
 ],
 "metadata": {
  "kernelspec": {
   "display_name": "Python 3",
   "language": "python",
   "name": "python3"
  },
  "language_info": {
   "codemirror_mode": {
    "name": "ipython",
    "version": 3
   },
   "file_extension": ".py",
   "mimetype": "text/x-python",
   "name": "python",
   "nbconvert_exporter": "python",
   "pygments_lexer": "ipython3",
   "version": "3.8.8"
  }
 },
 "nbformat": 4,
 "nbformat_minor": 5
}
